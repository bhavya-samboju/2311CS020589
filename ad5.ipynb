{
  "nbformat": 4,
  "nbformat_minor": 0,
  "metadata": {
    "colab": {
      "provenance": [],
      "authorship_tag": "ABX9TyNF5vR7ndi6BxoO7sqQWw1t",
      "include_colab_link": true
    },
    "kernelspec": {
      "name": "python3",
      "display_name": "Python 3"
    },
    "language_info": {
      "name": "python"
    }
  },
  "cells": [
    {
      "cell_type": "markdown",
      "metadata": {
        "id": "view-in-github",
        "colab_type": "text"
      },
      "source": [
        "<a href=\"https://colab.research.google.com/github/bhavya-samboju/2311CS020589/blob/main/ad5.ipynb\" target=\"_parent\"><img src=\"https://colab.research.google.com/assets/colab-badge.svg\" alt=\"Open In Colab\"/></a>"
      ]
    },
    {
      "cell_type": "code",
      "execution_count": 1,
      "metadata": {
        "colab": {
          "base_uri": "https://localhost:8080/"
        },
        "id": "DjruD4x8SpKx",
        "outputId": "546c3d62-e9b6-465c-e324-4bbb198fda44"
      },
      "outputs": [
        {
          "output_type": "stream",
          "name": "stdout",
          "text": [
            "  Patient Name  Age  Patient ID Drug Name  Quantity\n",
            "0     John Doe    4         101   Aspirin         2\n",
            "1    Tom Brown    5         103   Aspirin         1\n",
            "2   Lucy Green    3         104   Tylenol         5\n"
          ]
        }
      ],
      "source": [
        "import pandas as pd\n",
        "\n",
        "# Create the Patient Information DataFrame\n",
        "patient_data = {\n",
        "    'Patient Name': ['John Doe', 'Jane Smith', 'Tom Brown', 'Lucy Green'],\n",
        "    'Age': [4, 6, 5, 3],\n",
        "    'Date of Appointment': ['2025-01-15', '2025-01-16', '2025-01-17', '2025-01-18'],\n",
        "    'Patient ID': [101, 102, 103, 104]\n",
        "}\n",
        "patient_info = pd.DataFrame(patient_data)\n",
        "\n",
        "# Create the Drug Quantity DataFrame\n",
        "drug_data = {\n",
        "    'Drug Name': ['Aspirin', 'Penicillin', 'Aspirin', 'Tylenol'],\n",
        "    'Quantity': [2, 3, 1, 5],\n",
        "    'Patient ID': [101, 102, 103, 104]\n",
        "}\n",
        "drug_quantity = pd.DataFrame(drug_data)\n",
        "\n",
        "# Filter patient info for patients with age < 6, keeping Patient ID\n",
        "filtered_patients = patient_info[patient_info['Age'] < 6][['Patient Name', 'Age', 'Patient ID']]\n",
        "\n",
        "# Merge the two DataFrames using an inner join on 'Patient ID'\n",
        "merged_data = pd.merge(filtered_patients, drug_quantity, on='Patient ID', how='inner')\n",
        "\n",
        "# Display the merged DataFrame\n",
        "print(merged_data)"
      ]
    }
  ]
}