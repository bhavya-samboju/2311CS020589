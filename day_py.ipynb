{
  "nbformat": 4,
  "nbformat_minor": 0,
  "metadata": {
    "colab": {
      "provenance": [],
      "authorship_tag": "ABX9TyOyK07E6rjLjJZItlRfch10",
      "include_colab_link": true
    },
    "kernelspec": {
      "name": "python3",
      "display_name": "Python 3"
    },
    "language_info": {
      "name": "python"
    }
  },
  "cells": [
    {
      "cell_type": "markdown",
      "metadata": {
        "id": "view-in-github",
        "colab_type": "text"
      },
      "source": [
        "<a href=\"https://colab.research.google.com/github/bhavya-samboju/2311CS020589/blob/main/day_py.ipynb\" target=\"_parent\"><img src=\"https://colab.research.google.com/assets/colab-badge.svg\" alt=\"Open In Colab\"/></a>"
      ]
    },
    {
      "cell_type": "code",
      "execution_count": 1,
      "metadata": {
        "colab": {
          "base_uri": "https://localhost:8080/"
        },
        "id": "qjJa2FIcQh0A",
        "outputId": "10026cd1-3121-4329-e23f-0a3548c048ff"
      },
      "outputs": [
        {
          "output_type": "stream",
          "name": "stdout",
          "text": [
            "Original DataFrame\n",
            "   Square_Feet_Area  Year_Built  OverAll_Condition Ready_to_move  Sale_Price\n",
            "0            8500.0      2003.0                5.0           Yes      200000\n",
            "1            9600.0      2001.0                8.0            No      180000\n",
            "2               NaN         NaN                6.0           Yes      215000\n",
            "3           11250.0      1990.0                7.0           NaN      210000\n",
            "4               NaN      2000.0                NaN            No      190000\n",
            "5            9550.0      2006.0                7.0           NaN      250000\n",
            "6           14260.0      1978.0                8.0           Yes      225000\n",
            "7               NaN      1950.0                6.0           Yes      220000\n",
            "8            1830.0         NaN                NaN            No      240000\n",
            "9           11500.0      2020.0                9.0           Yes      230000\n",
            "\n",
            "DataFrame after replacing missing values with mean (for numeric) and mode (for categorical)\n",
            "   Square_Feet_Area  Year_Built  OverAll_Condition Ready_to_move  Sale_Price\n",
            "0       8500.000000      2003.0                5.0           Yes      200000\n",
            "1       9600.000000      2001.0                8.0            No      180000\n",
            "2       9498.571429      1993.5                6.0           Yes      215000\n",
            "3      11250.000000      1990.0                7.0           Yes      210000\n",
            "4       9498.571429      2000.0                7.0            No      190000\n",
            "5       9550.000000      2006.0                7.0           Yes      250000\n",
            "6      14260.000000      1978.0                8.0           Yes      225000\n",
            "7       9498.571429      1950.0                6.0           Yes      220000\n",
            "8       1830.000000      1993.5                7.0            No      240000\n",
            "9      11500.000000      2020.0                9.0           Yes      230000\n"
          ]
        }
      ],
      "source": [
        "import pandas as pd\n",
        "import numpy as np\n",
        "from sklearn.impute import SimpleImputer\n",
        "\n",
        "# Create sample dataset\n",
        "data = {\n",
        "    \"Square_Feet_Area\": [8500, 9600, np.nan, 11250, np.nan, 9550, 14260, np.nan, 1830, 11500],\n",
        "    \"Year_Built\": [2003, 2001, np.nan, 1990, 2000, 2006, 1978, 1950, np.nan, 2020],\n",
        "    \"OverAll_Condition\": [5, 8, 6, 7, np.nan, 7, 8, 6, np.nan, 9],\n",
        "    \"Ready_to_move\": [\"Yes\", \"No\", \"Yes\", np.nan, \"No\", np.nan, \"Yes\", \"Yes\", \"No\", \"Yes\"],\n",
        "    \"Sale_Price\": [200000, 180000, 215000, 210000, 190000, 250000, 225000, 220000, 240000, 230000]\n",
        "}\n",
        "\n",
        "df = pd.DataFrame(data)\n",
        "\n",
        "# Print Original DataFrame\n",
        "print(\"Original DataFrame\")\n",
        "print(df)\n",
        "\n",
        "# Create an imputer for numeric columns to replace NaN with mean\n",
        "numeric_imputer = SimpleImputer(strategy='mean')\n",
        "\n",
        "# Apply the imputer to the numeric columns\n",
        "df[['Square_Feet_Area', 'Year_Built', 'OverAll_Condition']] = numeric_imputer.fit_transform(df[['Square_Feet_Area', 'Year_Built', 'OverAll_Condition']])\n",
        "\n",
        "# Replacing missing values with mode for categorical columns\n",
        "df['Ready_to_move'] = df['Ready_to_move'].fillna(df['Ready_to_move'].mode()[0])\n",
        "\n",
        "# Print DataFrame after imputation\n",
        "print(\"\\nDataFrame after replacing missing values with mean (for numeric) and mode (for categorical)\")\n",
        "print(df)"
      ]
    }
  ]
}