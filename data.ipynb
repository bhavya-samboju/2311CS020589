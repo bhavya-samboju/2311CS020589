{
  "nbformat": 4,
  "nbformat_minor": 0,
  "metadata": {
    "colab": {
      "provenance": [],
      "authorship_tag": "ABX9TyNbx2LXAvT02ag+d1oDSxZJ",
      "include_colab_link": true
    },
    "kernelspec": {
      "name": "python3",
      "display_name": "Python 3"
    },
    "language_info": {
      "name": "python"
    }
  },
  "cells": [
    {
      "cell_type": "markdown",
      "metadata": {
        "id": "view-in-github",
        "colab_type": "text"
      },
      "source": [
        "<a href=\"https://colab.research.google.com/github/bhavya-samboju/2311CS020589/blob/main/data.ipynb\" target=\"_parent\"><img src=\"https://colab.research.google.com/assets/colab-badge.svg\" alt=\"Open In Colab\"/></a>"
      ]
    },
    {
      "cell_type": "code",
      "execution_count": 1,
      "metadata": {
        "colab": {
          "base_uri": "https://localhost:8080/"
        },
        "id": "tfH9CGRHRPeL",
        "outputId": "98d98a02-03ea-4bd9-ac6e-d2cc73783845"
      },
      "outputs": [
        {
          "output_type": "stream",
          "name": "stdout",
          "text": [
            "   customer_id  gender_Female  gender_Male  city_Banglore  city_Hyderabad  \\\n",
            "0            1            0.0          1.0            0.0             1.0   \n",
            "1            2            1.0          0.0            0.0             0.0   \n",
            "2            3            1.0          0.0            1.0             0.0   \n",
            "3            4            0.0          1.0            0.0             0.0   \n",
            "\n",
            "   city_Mumbai  city_Pune  fruits_Apple  fruits_Banana  fruits_Kivi  \\\n",
            "0          0.0        0.0           1.0            0.0          0.0   \n",
            "1          0.0        1.0           0.0            0.0          0.0   \n",
            "2          0.0        0.0           0.0            0.0          1.0   \n",
            "3          1.0        0.0           0.0            1.0          0.0   \n",
            "\n",
            "   fruits_Orange  \n",
            "0            0.0  \n",
            "1            1.0  \n",
            "2            0.0  \n",
            "3            0.0  \n"
          ]
        }
      ],
      "source": [
        "import pandas as pd\n",
        "from sklearn.preprocessing import OneHotEncoder\n",
        "\n",
        "# Data\n",
        "data = {\n",
        "    \"customer_id\": [1, 2, 3, 4],\n",
        "    \"gender\": [\"Male\", \"Female\", \"Female\", \"Male\"],  # Corrected typo in \"Feamle\"\n",
        "    \"city\": [\"Hyderabad\", \"Pune\", \"Banglore\", \"Mumbai\"],  # Standardized case\n",
        "    \"fruits\": [\"Apple\", \"Orange\", \"Kivi\", \"Banana\"]  # Standardized case\n",
        "}\n",
        "\n",
        "# Create DataFrame\n",
        "df = pd.DataFrame(data)\n",
        "\n",
        "# Initialize OneHotEncoder\n",
        "one_hot_encoder = OneHotEncoder(sparse_output=False)\n",
        "\n",
        "# Columns to encode\n",
        "columns_to_encode = [\"gender\", \"city\", \"fruits\"]\n",
        "\n",
        "# Fit and transform the data\n",
        "encoded_data = one_hot_encoder.fit_transform(df[columns_to_encode])\n",
        "\n",
        "# Get encoded column names\n",
        "encoded_columns = one_hot_encoder.get_feature_names_out(columns_to_encode)\n",
        "\n",
        "# Create a new DataFrame with encoded columns\n",
        "encoded_df = pd.DataFrame(encoded_data, columns=encoded_columns)\n",
        "\n",
        "# Combine original and encoded data\n",
        "result_df = pd.concat([df[[\"customer_id\"]], encoded_df], axis=1)\n",
        "\n",
        "print(result_df)"
      ]
    }
  ]
}