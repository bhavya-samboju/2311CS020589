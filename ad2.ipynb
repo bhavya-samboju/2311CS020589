{
  "nbformat": 4,
  "nbformat_minor": 0,
  "metadata": {
    "colab": {
      "provenance": [],
      "authorship_tag": "ABX9TyNC/4SqTTGwUUdjGRZWQ2MX",
      "include_colab_link": true
    },
    "kernelspec": {
      "name": "python3",
      "display_name": "Python 3"
    },
    "language_info": {
      "name": "python"
    }
  },
  "cells": [
    {
      "cell_type": "markdown",
      "metadata": {
        "id": "view-in-github",
        "colab_type": "text"
      },
      "source": [
        "<a href=\"https://colab.research.google.com/github/bhavya-samboju/2311CS020589/blob/main/ad2.ipynb\" target=\"_parent\"><img src=\"https://colab.research.google.com/assets/colab-badge.svg\" alt=\"Open In Colab\"/></a>"
      ]
    },
    {
      "cell_type": "code",
      "execution_count": 1,
      "metadata": {
        "colab": {
          "base_uri": "https://localhost:8080/"
        },
        "id": "F2bSEAiETrB_",
        "outputId": "3d0528c2-47f3-4f05-f966-4d6e6a370bfe"
      },
      "outputs": [
        {
          "output_type": "stream",
          "name": "stdout",
          "text": [
            "[[ 1  2  3  4  5]\n",
            " [ 6  7  8  9 10]\n",
            " [ 2 12 23 10 89]]\n",
            "[[ 7  8  9 10]]\n"
          ]
        }
      ],
      "source": [
        "import numpy as np\n",
        "arr  = np.array([[1,2,3,4,5],[6,7,8,9,10],[2,12,23,10,89]])\n",
        "print(arr)\n",
        "print(arr[1:2,1:5])"
      ]
    }
  ]
}