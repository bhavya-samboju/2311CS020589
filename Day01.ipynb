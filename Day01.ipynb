{
  "nbformat": 4,
  "nbformat_minor": 0,
  "metadata": {
    "colab": {
      "provenance": [],
      "authorship_tag": "ABX9TyPPmF2EgAsE+LqHvrvd20xC",
      "include_colab_link": true
    },
    "kernelspec": {
      "name": "python3",
      "display_name": "Python 3"
    },
    "language_info": {
      "name": "python"
    }
  },
  "cells": [
    {
      "cell_type": "markdown",
      "metadata": {
        "id": "view-in-github",
        "colab_type": "text"
      },
      "source": [
        "<a href=\"https://colab.research.google.com/github/bhavya-samboju/2311CS020589/blob/main/Day01.ipynb\" target=\"_parent\"><img src=\"https://colab.research.google.com/assets/colab-badge.svg\" alt=\"Open In Colab\"/></a>"
      ]
    },
    {
      "cell_type": "code",
      "execution_count": null,
      "metadata": {
        "colab": {
          "base_uri": "https://localhost:8080/"
        },
        "id": "1Q5hsW9dnAtl",
        "outputId": "0a9d62cc-d816-4908-a09e-c8fd0ecc9a85"
      },
      "outputs": [
        {
          "output_type": "stream",
          "name": "stdout",
          "text": [
            "t\n",
            "l\n"
          ]
        }
      ],
      "source": [
        "#Find If the length of the string is even print as even\n",
        "string = \"do what i say to the world\"\n",
        "for word in string.split():\n",
        "  if  len(word) > 3:\n",
        "    print(word[0])"
      ]
    },
    {
      "cell_type": "code",
      "source": [
        "#Find If the length of the string is even print as even\n",
        "list = [\"do what i say to the world\"]\n",
        "for word in list[0].split():\n",
        "  if  len(word) > 1:\n",
        "    print(word[0])"
      ],
      "metadata": {
        "colab": {
          "base_uri": "https://localhost:8080/"
        },
        "id": "7WxdoSG-qfKv",
        "outputId": "7558f3f2-869b-4202-c41c-97048724be9c"
      },
      "execution_count": null,
      "outputs": [
        {
          "output_type": "stream",
          "name": "stdout",
          "text": [
            "d\n",
            "w\n",
            "s\n",
            "t\n",
            "t\n",
            "w\n"
          ]
        }
      ]
    },
    {
      "cell_type": "code",
      "source": [
        "string =\"welcom to python lab\"\n",
        "list = [i for i in string.split()]\n",
        "print(list[1])"
      ],
      "metadata": {
        "colab": {
          "base_uri": "https://localhost:8080/"
        },
        "id": "SofSxeE0rrI3",
        "outputId": "2c6d18f4-a7ac-4de6-c6df-39664b634a4c"
      },
      "execution_count": null,
      "outputs": [
        {
          "output_type": "stream",
          "name": "stdout",
          "text": [
            "to\n"
          ]
        }
      ]
    },
    {
      "cell_type": "code",
      "source": [
        "string =\"welcom to python lab\"\n",
        "list = [i for i in string.split()]\n",
        "print(list)"
      ],
      "metadata": {
        "colab": {
          "base_uri": "https://localhost:8080/"
        },
        "id": "s-ivBxb9tEvv",
        "outputId": "4210dadf-be78-4c36-f117-7154fc75bb4b"
      },
      "execution_count": null,
      "outputs": [
        {
          "output_type": "stream",
          "name": "stdout",
          "text": [
            "['welcom', 'to', 'python', 'lab']\n"
          ]
        }
      ]
    }
  ]
}